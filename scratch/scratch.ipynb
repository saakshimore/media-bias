{
 "cells": [
  {
   "cell_type": "code",
   "execution_count": 18,
   "id": "c22273f6-3638-4c7c-ba52-f4affba6ca10",
   "metadata": {
    "tags": []
   },
   "outputs": [],
   "source": [
    "import re\n",
    "import csv\n",
    "import time\n",
    "import random\n",
    "import requests\n",
    "from bs4 import BeautifulSoup\n",
    "from datetime import datetime, timedelta, date\n",
    "from dateutil import parser\n",
    "from pytz import timezone, UnknownTimeZoneError\n",
    "from selenium import webdriver\n",
    "from selenium.webdriver.common.action_chains import ActionChains\n",
    "from selenium.webdriver.common.by import By\n",
    "from selenium.webdriver.support.ui import WebDriverWait, Select\n",
    "from selenium.webdriver.chrome.options import Options\n",
    "from selenium.webdriver.support import expected_conditions as EC\n",
    "from dateutil.parser import parse\n",
    "from newspaper import Article\n",
    "from newspaper import Config\n",
    "from selenium.common.exceptions import TimeoutException, WebDriverException, NoSuchElementException\n",
    "import pandas as pd\n",
    "from dotenv import load_dotenv, find_dotenv\n",
    "import re\n",
    "import os\n",
    "from urllib.parse import urljoin"
   ]
  },
  {
   "cell_type": "code",
   "execution_count": 19,
   "id": "f191d811-42e1-4b94-ad85-3bb56428da48",
   "metadata": {},
   "outputs": [],
   "source": [
    "time = \"5th December 2023, 12:15 GMT-5\""
   ]
  },
  {
   "cell_type": "code",
   "execution_count": 23,
   "id": "f852f5d3-cbbd-46c7-8a67-069b891bbd6e",
   "metadata": {
    "tags": []
   },
   "outputs": [
    {
     "name": "stdout",
     "output_type": "stream",
     "text": [
      "5th December 2023, 12:15 GMT-5\n",
      "2023-12-05\n",
      "6th December 2023, 14:30 GMT-4\n",
      "2023-12-06\n",
      "7th December 2023, 16:45 GMT+4\n",
      "2023-12-07\n"
     ]
    }
   ],
   "source": [
    "time_strings = [\"5th December 2023, 12:15 GMT-5\", \"6th December 2023, 14:30 GMT-4\", \"7th December 2023, 16:45 GMT+4\"]\n",
    "\n",
    "for time_str in time_strings:\n",
    "    print(time_str)\n",
    "    date_part, time_part = time_str.split(',', 2)\n",
    "    parsed_date = parser.parse(date_part)\n",
    "    formatted_date = parsed_date.strftime('%Y-%m-%d')\n",
    "    print(formatted_date)"
   ]
  },
  {
   "cell_type": "code",
   "execution_count": 27,
   "id": "b5bc63d2-c650-4b9a-968a-35809bd68ead",
   "metadata": {
    "tags": []
   },
   "outputs": [
    {
     "name": "stdout",
     "output_type": "stream",
     "text": [
      "None\n"
     ]
    }
   ],
   "source": [
    "l = \"https://www.bbc.com/news/world-us-canada-67586033\"\n",
    "headers = {'User-Agent': 'Mozilla/5.0 (Windows NT 10.0; Win64; x64) AppleWebKit/537.36 (KHTML, like Gecko) Chrome/91.0.4472.124 Safari/537.36'}\n",
    "response = requests.get(l, headers=headers)\n",
    "soup = BeautifulSoup(response.text, 'html.parser')\n",
    "time = soup.find('time')\n",
    "print(time)\n",
    "if time:\n",
    "    time = time.get_text(strip=True)\n",
    "    print(time)\n",
    "else:\n",
    "    time = soup.find('span',{'class':'sc-596253d5-4 YIYqK'})\n",
    "    if time:\n",
    "        time = time.get_text(strip=True)\n",
    "        print(time)\n",
    "if time:\n",
    "    try:\n",
    "        date_part, time_part = time.split(',', 2)\n",
    "        print(date_part)\n",
    "        parsed_date = parser.parse(date_part)\n",
    "        time = parsed_date.strftime('%Y-%m-%d')\n",
    "    except Exception as e:\n",
    "        if \"hours ago\" in e:\n",
    "            time = time.get_attribute('datetime')\n",
    "            time = time.split('T')[0]\n",
    "            print(time)"
   ]
  },
  {
   "cell_type": "code",
   "execution_count": 28,
   "id": "d58c4dcf-d925-47c2-9253-6bd24175469d",
   "metadata": {
    "tags": []
   },
   "outputs": [
    {
     "name": "stdout",
     "output_type": "stream",
     "text": [
      "<time class=\"sc-26840bd1-3 kLqiKq\">1st December 2023, 11:15 EST</time>\n"
     ]
    }
   ],
   "source": [
    "\n",
    "# Set up the Chrome webdriver with headless option\n",
    "chrome_options = Options()\n",
    "chrome_options.add_argument('--headless')  # Run in headless mode (without GUI)\n",
    "driver = webdriver.Chrome(options=chrome_options)\n",
    "\n",
    "# Open the URL in the headless browser\n",
    "driver.get(l)\n",
    "\n",
    "# Get the page source after JavaScript execution\n",
    "html_source = driver.page_source\n",
    "\n",
    "# Close the browser\n",
    "driver.quit()\n",
    "\n",
    "# Parse the HTML with BeautifulSoup\n",
    "soup = BeautifulSoup(html_source, 'html.parser')\n",
    "\n",
    "# Find the time tag\n",
    "time = soup.find('time')\n",
    "print(time)"
   ]
  },
  {
   "cell_type": "code",
   "execution_count": 35,
   "id": "7f9983ac-631f-443c-ade5-29413dd1ec8b",
   "metadata": {
    "tags": []
   },
   "outputs": [],
   "source": [
    "url = \"https://www.huffpost.com/entry/israels-occupation-is-mor_b_8771232\""
   ]
  },
  {
   "cell_type": "code",
   "execution_count": 36,
   "id": "ff2b04ee-795b-437d-846b-5fc0dfc842a2",
   "metadata": {
    "tags": []
   },
   "outputs": [],
   "source": [
    "chrome_options = Options()\n",
    "chrome_options.add_argument('--headless') \n",
    "chrome_options.add_argument('--user-agent=Mozilla/5.0 (Windows NT 10.0; Win64; x64) AppleWebKit/537.36 (KHTML, like Gecko) Chrome/91.0.4472.124 Safari/537.36')\n",
    "browser = webdriver.Chrome(options=chrome_options)\n",
    "wait = WebDriverWait(browser, 50)\n",
    "browser.get(url)\n",
    "page_html = browser.page_source\n",
    "soup = BeautifulSoup(page_html, 'html.parser')"
   ]
  },
  {
   "cell_type": "code",
   "execution_count": 39,
   "id": "a7d0db2b-f319-4c80-b937-9aeb57ec09b2",
   "metadata": {
    "tags": []
   },
   "outputs": [
    {
     "name": "stdout",
     "output_type": "stream",
     "text": [
      "Date:  2015-12-10\n",
      "Auth:  \n",
      "Title:  Israel's Occupation Is Morally Indefensible\n",
      "content:  Cartoon by Sam Ben-MeirI have long maintained that Israel's occupation of the West Bank defies the moral principle behind the creation of the state. Contrary to Prime Minister Netanyahu's assertion, the occupation erodes rather than buttresses Israel's national security and cannot be justified on either security or moral grounds. Unless Israel embraces a new moral path, no one can prevent it from unravelling from within only to become a pariah state that has lost its soul, wantonly abandoning the cherished dreams of its founding fathers.There are four ethical theories--Kantian, utilitarian, virtue-based, and religious--that demonstrate the lack of moral foundation in the continuing occupation, which imposes upon Israelis the responsibility to bring it to a decisive end.The first moral theory isdeontological ethics, whose greatest representative is Immanuel Kant. According to this theory, consequences are irrelevant to the moral rightness or wrongness of an action; what matters is whether the action is done for the sake of duty or out of respect for the moral law.Kant provided several formulations of the moral law, which he refers to as the categorical imperative; for our purposes, what is most important are his first two formulations. The first is the principle that morality requires us to act only on those maxims we can universalize. As heputsit, \"Act only on that maxim through which you can at the same time will that it should become a universal law.\" In short, never do anything that you couldn't will everybody else do at the same time.The question is whether the Israeli occupation is a policy that can be universalized and pass this test of moral reasoning. The answer is clearly no; the policy of occupation is rationally inconsistent, as it requires Israel to exempt itself from moral and political norms that the rest of the international community recognizes (and which serve to protect Israel itself). Israel is making an exception of itself - which is the capital sin, according to Kant, as in effect Israel is saying: 'We don't have to live by the same rules as everyone else.' This is evident from the fact that Israel denies the Palestinians' right to self-determination and justifies that in the name of national security, even though the achievement of absolute security would invariably render the Palestinians absolutely vulnerable.Whereas Israel has agreed to a two-state solution, it continues to usurp Palestinian land, thereby violating international agreements which Israel is signatory to (UN Resolution 242, the Oslo Accords). In doing so, Israel is clearly defying the first formulation of the categorical imperative, which as Kant showed, requires us to honor our agreements and contracts. That is, Israel is acting on a maxim or policy of breaking its agreements to serve its self-interest, which cannot be universalized without contradiction because then the institution of reaching international agreements cannot be sustained.Although many countries break international contracts, that does not affect Kant's argument as he knew full well that people lie, cheat, and steal. His concern is with the principle of morality and what it requires regardless of whether these requirements are in fact met. By maintaining the occupation, Israel is flouting the moral law while expecting the Palestinians to uphold the same norms.The second formulation is to never treat another person merely as a means, but always also as an end in themselves. In other words, what Kant is saying is that as free rational beings who can act in accordance with morality, each of us possesses intrinsic worth which implies that we must respect the inherent dignity of each individual.In the case of the Palestinians who are under occupation, Israel is treating them as objects rather than persons who can rationally consent to the way they are being treated. Israel is coercing the Palestinians physically and psychologically by denying them human rights, through, for example, administrative detention, night raids, and expulsion, thereby robbing them of their dignity and denying them their autonomy.The second moral theory isUtilitarianism, which in its modern form originated in England with the works of Jeremy Bentham and John Stuart Mill. In contrast to Kantianism, this theory places all emphasis on the consequences of our actions. It states that an action is morally right if it produces the greatest amount of good for the greatest number of people.The moral evaluation of any policy depends on whether it maximizes utility. Utilitarianism agrees with Kant on one fundamental point, which is that morality prohibits making an exception of oneself. For obvious reasons, governments give greater priority to their own people. But does the occupation maximize the security and well-being of all Israelis?In spite of the fact that Israel takes extraordinary measures to enhance its security, the occupation is in fact undermining the security of the state, as is evident from the repeated bloody clashes. Moreover, if Israel were to extend its moral considerations beyond its own people to include the Palestinians, then the policy of occupation still fails on utilitarian grounds even more acutely.To be sure, while Israel resorts to utilitarian arguments to justify its treatment of the Palestinians, in the process Israel reveals the classic pitfall of utilitarian thinking, which is that it ultimately does not provide sufficient protection and respect for human rights. This contempt for human rights in fact directly erodes Israel's moral standing within the community of nations.The third moral theory isvirtue ethics, whose greatest advocate is still Aristotle. In virtue ethics, an act is moral if it is performed as a result of having a virtuous character. Virtue ethics is not primarily about codifying and applying moral principles, but developing the character from which moral actions arise. In this context, the Israeli occupation, while having a major adverse effect on the Palestinians, also has a morally corrupting influence on Israelis themselves.Virtue ethics recognizes the importance of acquiring the habit to act ethically which involves moral upbringing; as Aristotle is to have said, \"Educating the mind without educating the heart is no education at all.\" The occupation is not educating Israeli youth towards moral virtues, but hardening their hearts as they can live with regular prejudices, discrimination, and dehumanization against the Palestinians. As such, the occupation fails to meet the principles of virtue ethics because it creates an environment which degrades the moral substance of the Israelis themselves. As a result, they continue to commit transgressions against the Palestinians without any sense of moral culpability.One might argue from a certain Israeli perspective (i.e. the settlement movement) that the occupation engenders virtues such as national solidarity, social cohesiveness, loyalty, courage, and perseverance. While this may appear to be true on the surface, the occupation is in fact tearing the Israelis' social and political fabric apart and undermining the conditions under which moral virtues such as caring, compassion, and magnanimity can grow and thrive.Moreover, the longer the occupation persists, the greater the damage is to Israel's moral character, and Israel will become increasingly disposed to compromising its fundamental values and ideals as a democracy committed to human rights.Finally, we need to consider the moral theory which says morality is acting in accordance with what divinity commands from us. There are two basic theories, both of which can be traced back to Plato'sEuthyphrowhere Socrates raises thequestion: \"...whether the pious or holy is beloved by the gods because it is holy, or holy because it is beloved of the gods.\"The first is the divine command theory, which states that what makes an action moral or right is the fact that God commands it and nothing else. The second theory, defended by Socrates, is that God commands us to do what is right because it is the right thing to do. In other words, morality precedes God's will and is irreducible to divine command.In the context of this ancient debate, the usurpation and annexation of Palestinian land may appear to be defensible on the basis of the divine command theory because if God requires us to perform any set of actions, then by definition it would be the moral thing to do.Many orthodox Jews hold to the divine command theory, as they interpret the concept of \"mitzvah\" (good deed) first and foremost as \"command,\" the goodness of which cannot even be contemplated apart from the fact that this is what God has commanded us to do.As such, those who take the Bible as the revelation of God's commands use it to justify the concept of Greater Israel. As a result, they view the Palestinian presence as an impediment God placed before them to test their resolve. Therefore, their harsh treatment of the Palestinians becomes morally permissible because it is consistent with divine decree.By adopting the command theory, they are ascribing to a position which has and continues to be used to justify acts which are blatantly immoral. The defender of this theory may counter that because God is good, he does not command anything which is immoral.However, this argument is hollow because if morality is simply what God approves of, to say that God is good is merely to assert that he approves of himself and his own will. In this case, there is still no safeguard against the extremists who use the command theory to justify even the most heinous crimes. Furthermore, if the command in question satisfies a deep seated psychological need--say, for a God-given Jewish homeland--then what humans ascribe to God eventually becomes 'the will of God.'Another problem with the divine command theory is that, as the philosopher Gottfried Leibnizobserved, it turns God into a kind of Tyrant unworthy of our love and devotion: \"For why praise him for what he has done, if he would be equally praiseworthy for doing just the opposite?\"Turning to the theory that God commands us to do the good because it is good, what becomes clear is that any action must derive its moral worth independently of God's will. In that case, the Israeli policy toward the occupation will have to be morally justifiable without reference to some divine mandate. We have already examined, however briefly, Israel's policy in light of deontology, utilitarianism, and virtue ethics, and found that it comes up short and fails to meet the basic requirement of these theories. Therefore, it lacks independent moral justification on which God's commands could possibly be based on.Israel's occupation cannot be defended on moral grounds or in terms of national security. Israel can defend itself and prevail over any of its enemies now and in the foreseeable future, but it is drowning in moral corruption that the continued occupation only deepens. It is that--the enemy from within--that poses the greatest danger Israel faces.\n"
     ]
    }
   ],
   "source": [
    "date_published = None\n",
    "meta_tag = soup.find('meta', {'property': 'article:published_time'})\n",
    "if meta_tag:\n",
    "    date_published = meta_tag['content']\n",
    "    date_published = date_published.split('T')[0]\n",
    "print(\"Date: \",date_published)\n",
    "    \n",
    "authors = \"\"\n",
    "meta_tag = soup.find('span', {'class': 'entry-wirepartner__byline'})\n",
    "if meta_tag:\n",
    "    authors = meta_tag.get_text(strip=True)\n",
    "print(\"Auth: \",authors)\n",
    "\n",
    "meta_tag = soup.find('meta', {'property': 'og:title'})\n",
    "if meta_tag:\n",
    "    title = meta_tag['content']\n",
    "print(\"Title: \",title)\n",
    "\n",
    "# Find all <p> tags inside the <div> tag\n",
    "content=\"\"\n",
    "div_element = soup.find_all('div', class_='primary-cli cli cli-text')\n",
    "for div in div_element:\n",
    "    p_element = div.find('p')\n",
    "    if p_element:\n",
    "        text_content = p_element.get_text(strip=True)\n",
    "        content += text_content\n",
    "print(\"content: \",content)"
   ]
  },
  {
   "cell_type": "code",
   "execution_count": null,
   "id": "6f1d755f-4d92-40d5-9e27-d63d0239db67",
   "metadata": {},
   "outputs": [],
   "source": []
  }
 ],
 "metadata": {
  "kernelspec": {
   "display_name": "Python 3 (ipykernel)",
   "language": "python",
   "name": "python3"
  },
  "language_info": {
   "codemirror_mode": {
    "name": "ipython",
    "version": 3
   },
   "file_extension": ".py",
   "mimetype": "text/x-python",
   "name": "python",
   "nbconvert_exporter": "python",
   "pygments_lexer": "ipython3",
   "version": "3.10.12"
  }
 },
 "nbformat": 4,
 "nbformat_minor": 5
}
